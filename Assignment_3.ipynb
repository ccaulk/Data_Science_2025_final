{
 "cells": [
  {
   "cell_type": "markdown",
   "id": "7d78b752",
   "metadata": {
    "deletable": false
   },
   "source": [
    "\n",
    "# Assignment 3 for Course 1MS041\n",
    "Make sure you pass the `# ... Test` cells and\n",
    " submit your solution notebook in the corresponding assignment on the course website. You can submit multiple times before the deadline and your highest score will be used."
   ]
  },
  {
   "cell_type": "markdown",
   "id": "7a3f27d5",
   "metadata": {
    "deletable": false,
    "lx_assignment_number": "3",
    "lx_assignment_type": "ASSIGNMENT",
    "lx_assignment_type2print": "Assignment",
    "lx_problem_cell_type": "PROBLEM",
    "lx_problem_number": "1",
    "lx_problem_points": "8"
   },
   "source": [
    "---\n",
    "## Assignment 3, PROBLEM 1\n",
    "Maximum Points = 8"
   ]
  },
  {
   "cell_type": "markdown",
   "id": "ea37109a",
   "metadata": {
    "deletable": false,
    "lx_assignment_number": "3",
    "lx_assignment_type": "ASSIGNMENT",
    "lx_assignment_type2print": "Assignment",
    "lx_problem_cell_type": "PROBLEM",
    "lx_problem_number": "1",
    "lx_problem_points": "8"
   },
   "source": [
    "\n",
    "Download the updated data folder from the course github website or just download directly the file [https://github.com/datascience-intro/1MS041-2024/blob/main/notebooks/data/smhi.csv](https://github.com/datascience-intro/1MS041-2024/blob/main/notebooks/data/smhi.csv) from the github website and put it inside your data folder, i.e. you want the path `data/smhi.csv`. The data was aquired from SMHI (Swedish Meteorological and Hydrological Institute) and constitutes per hour measurements of wind in the Uppsala Aut station. The data consists of windspeed and direction. Your goal is to load the data and work with it a bit. The code you produce should load the file as it is, please do not alter the file as the autograder will only have access to the original file.\n",
    "\n",
    "The file information is in Swedish so you need to use some translation service, for instance `Google translate` or ChatGPT.\n",
    "\n",
    "1. [2p] Load the file, for instance using the `csv` package. Put the wind-direction as a numpy array and the wind-speed as another numpy array.\n",
    "2. [2p] Use the wind-direction which is an angle in degrees and convert it into a point on the unit circle. Store the `x_coordinate` as one array and the `y_coordinate` as another. From these coordinates, construct the wind-velocity vector.\n",
    "3. [2p] Calculate the average wind velocity and convert it back to direction and compare it to just taking average of the wind direction as given in the data-file.\n",
    "4. [2p] The wind velocity is a $2$-dimensional random variable, calculate the empirical covariance matrix which should be a numpy array of shape (2,2).\n",
    "\n",
    "For you to wonder about, is it more likely for you to have headwind or not when going to the university in the morning."
   ]
  },
  {
   "cell_type": "code",
   "execution_count": 1,
   "id": "1d555ce1",
   "metadata": {
    "deletable": false,
    "lx_assignment_number": "3",
    "lx_assignment_type": "ASSIGNMENT",
    "lx_assignment_type2print": "Assignment",
    "lx_problem_cell_type": "PROBLEM",
    "lx_problem_number": "1",
    "lx_problem_points": "8"
   },
   "outputs": [],
   "source": [
    "import csv\n",
    "import numpy as np\n",
    "import pandas as pd\n",
    "\n",
    "direction = []\n",
    "speed = []\n",
    "with open('data/smhi.csv', newline='') as csvfile:\n",
    "    reader = csv.reader(csvfile, delimiter=';')\n",
    "    for i in range(12):\n",
    "        reader.__next__()\n",
    "    for row in reader:\n",
    "        # print(row)\n",
    "        direction.append(row[2])\n",
    "        speed.append(row[4])\n",
    "# print(direction)\n",
    "# print(speed)\n",
    "problem1_wind_direction = np.array(list(map(int,direction)))\n",
    "problem1_wind_speed = np.array(list(map(float,speed)))"
   ]
  },
  {
   "cell_type": "code",
   "execution_count": 2,
   "id": "2a021927",
   "metadata": {
    "deletable": false,
    "lx_assignment_number": "3",
    "lx_assignment_type": "ASSIGNMENT",
    "lx_assignment_type2print": "Assignment",
    "lx_problem_cell_type": "PROBLEM",
    "lx_problem_number": "1",
    "lx_problem_points": "8"
   },
   "outputs": [],
   "source": [
    "\n",
    "# The wind direction is given as a compass direction in degrees (0-360)\n",
    "# convert it to x and y coordinates using the standard mathematical convention\n",
    "problem1_wind_direction_x_coordinate = np.cos(np.radians(problem1_wind_direction))\n",
    "problem1_wind_direction_y_coordinate = np.sin(np.radians(problem1_wind_direction))\n",
    "# print(problem1_wind_direction)\n",
    "# print(problem1_wind_direction_x_coordinate)\n",
    "# print(problem1_wind_direction_y_coordinate)\n",
    "\n",
    "\n",
    "problem1_wind_velocity_x_coordinate = problem1_wind_direction_x_coordinate * problem1_wind_speed\n",
    "problem1_wind_velocity_y_coordinate = problem1_wind_direction_y_coordinate * problem1_wind_speed\n",
    "# print(problem1_wind_speed)\n",
    "# print(problem1_wind_velocity_x_coordinate)\n",
    "# print(problem1_wind_velocity_y_coordinate)"
   ]
  },
  {
   "cell_type": "code",
   "execution_count": 15,
   "id": "e5eaa4a4",
   "metadata": {
    "deletable": false,
    "lx_assignment_number": "3",
    "lx_assignment_type": "ASSIGNMENT",
    "lx_assignment_type2print": "Assignment",
    "lx_problem_cell_type": "PROBLEM",
    "lx_problem_number": "1",
    "lx_problem_points": "8"
   },
   "outputs": [
    {
     "name": "stdout",
     "output_type": "stream",
     "text": [
      "200.12646997879915\n",
      "192.281280627246\n"
     ]
    }
   ],
   "source": [
    "import math\n",
    "# Put the average wind velocity x and y coordinates here in these variables\n",
    "problem1_average_wind_velocity_x_coordinate = np.mean(problem1_wind_velocity_x_coordinate)\n",
    "problem1_average_wind_velocity_y_coordinate = np.mean(problem1_wind_velocity_y_coordinate)\n",
    "\n",
    "# First calculate the angle of the average wind velocity vector in degrees\n",
    "# print(problem1_average_wind_velocity_x_coordinate)\n",
    "# print(problem1_average_wind_velocity_y_coordinate)\n",
    "angle = math.degrees(math.atan2(problem1_average_wind_velocity_y_coordinate, problem1_average_wind_velocity_x_coordinate))\n",
    "if angle < 0:\n",
    "    angle +=360\n",
    "problem1_average_wind_velocity_angle_degrees = angle\n",
    "print(problem1_average_wind_velocity_angle_degrees)\n",
    "# Then calculate the average angle of the wind direction in degrees (using the wind direction in the data)\n",
    "problem1_average_wind_direction_angle_degrees = np.mean(problem1_wind_direction)\n",
    "print(problem1_average_wind_direction_angle_degrees)\n",
    "\n",
    "# Finally, are they the same? Answer as a boolean value (True or False)\n",
    "problem1_same_angle = problem1_average_wind_velocity_angle_degrees == problem1_average_wind_direction_angle_degrees\n",
    "#print(problem1_same_angle)"
   ]
  },
  {
   "cell_type": "code",
   "execution_count": 4,
   "id": "30621c34",
   "metadata": {
    "deletable": false,
    "lx_assignment_number": "3",
    "lx_assignment_type": "ASSIGNMENT",
    "lx_assignment_type2print": "Assignment",
    "lx_problem_cell_type": "PROBLEM",
    "lx_problem_number": "1",
    "lx_problem_points": "8"
   },
   "outputs": [
    {
     "data": {
      "text/plain": [
       "array([[2.45331787, 0.06366291],\n",
       "       [0.06366291, 1.89213988]])"
      ]
     },
     "execution_count": 4,
     "metadata": {},
     "output_type": "execute_result"
    }
   ],
   "source": [
    "# coords = list(zip(problem1_wind_velocity_x_coordinate,problem1_wind_velocity_y_coordinate))\n",
    "# print(coords)\n",
    "problem1_wind_velocity_covariance_matrix = np.cov([problem1_wind_velocity_x_coordinate,problem1_wind_velocity_y_coordinate])\n",
    "problem1_wind_velocity_covariance_matrix"
   ]
  },
  {
   "cell_type": "markdown",
   "id": "2266a760",
   "metadata": {
    "deletable": false,
    "lx_assignment_number": "3",
    "lx_assignment_type": "ASSIGNMENT",
    "lx_assignment_type2print": "Assignment",
    "lx_problem_cell_type": "PROBLEM",
    "lx_problem_number": "2",
    "lx_problem_points": "8"
   },
   "source": [
    "---\n",
    "## Assignment 3, PROBLEM 2\n",
    "Maximum Points = 8"
   ]
  },
  {
   "cell_type": "markdown",
   "id": "45238a00",
   "metadata": {
    "deletable": false,
    "lx_assignment_number": "3",
    "lx_assignment_type": "ASSIGNMENT",
    "lx_assignment_type2print": "Assignment",
    "lx_problem_cell_type": "PROBLEM",
    "lx_problem_number": "2",
    "lx_problem_points": "8"
   },
   "source": [
    "\n",
    "For this problem you will need the [pandas](https://pandas.pydata.org/) package and the [sklearn](https://scikit-learn.org/stable/) package. Inside the `data` folder from the course website you will find a file called `indoor_train.csv`, this file includes a bunch of positions in (X,Y,Z) and also a location number. The idea is to assign a room number (Location) to the coordinates (X,Y,Z).\n",
    "\n",
    "1. [2p] Take the data in the file `indoor_train.csv` and load it using pandas into a dataframe `df_train`\n",
    "2. [3p] From this dataframe `df_train`, create two numpy arrays, one `Xtrain` and `Ytrain`, they should have sizes `(1154,3)` and `(1154,)` respectively. Their `dtype` should be `float64` and `int64` respectively.\n",
    "3. [3p] Train a Support Vector Classifier, `sklearn.svc.SVC`, on `Xtrain, Ytrain` with `kernel='linear'` and name the trained model `svc_train`.\n",
    "\n",
    "To mimic how [kaggle](https://www.kaggle.com/) works, the Autograder has access to a hidden test-set and will test your fitted model."
   ]
  },
  {
   "cell_type": "code",
   "execution_count": 5,
   "id": "a13a0482",
   "metadata": {
    "deletable": false,
    "lx_assignment_number": "3",
    "lx_assignment_type": "ASSIGNMENT",
    "lx_assignment_type2print": "Assignment",
    "lx_problem_cell_type": "PROBLEM",
    "lx_problem_number": "2",
    "lx_problem_points": "8"
   },
   "outputs": [],
   "source": [
    "from sklearn.svm import SVC\n",
    "df_train = pd.read_csv(\"data/indoor_train.csv\")\n",
    "# df_train"
   ]
  },
  {
   "cell_type": "code",
   "execution_count": 6,
   "id": "da145026",
   "metadata": {
    "deletable": false,
    "lx_assignment_number": "3",
    "lx_assignment_type": "ASSIGNMENT",
    "lx_assignment_type2print": "Assignment",
    "lx_problem_cell_type": "PROBLEM",
    "lx_problem_number": "2",
    "lx_problem_points": "8"
   },
   "outputs": [],
   "source": [
    "Xtrain = np.array(df_train[[\"Position X\",\" Position Y\",\"Position Z\"]])\n",
    "Ytrain = np.array(df_train[\"Location\"].tolist())\n",
    "# print(Xtrain.shape)\n",
    "# print(Ytrain.shape)"
   ]
  },
  {
   "cell_type": "code",
   "execution_count": 7,
   "id": "c0663333",
   "metadata": {
    "deletable": false,
    "lx_assignment_number": "3",
    "lx_assignment_type": "ASSIGNMENT",
    "lx_assignment_type2print": "Assignment",
    "lx_problem_cell_type": "PROBLEM",
    "lx_problem_number": "2",
    "lx_problem_points": "8"
   },
   "outputs": [],
   "source": [
    "\n",
    "svc_train = SVC(kernel = \"linear\").fit(Xtrain,Ytrain)\n",
    "# svc_train.score(Xtrain,Ytrain)"
   ]
  },
  {
   "cell_type": "markdown",
   "id": "4e1452bd",
   "metadata": {
    "deletable": false,
    "lx_assignment_number": "3",
    "lx_assignment_type": "ASSIGNMENT",
    "lx_assignment_type2print": "Assignment",
    "lx_problem_cell_type": "PROBLEM",
    "lx_problem_number": "3",
    "lx_problem_points": "8"
   },
   "source": [
    "---\n",
    "## Assignment 3, PROBLEM 3\n",
    "Maximum Points = 8"
   ]
  },
  {
   "cell_type": "markdown",
   "id": "1ec7f987",
   "metadata": {
    "deletable": false,
    "lx_assignment_number": "3",
    "lx_assignment_type": "ASSIGNMENT",
    "lx_assignment_type2print": "Assignment",
    "lx_problem_cell_type": "PROBLEM",
    "lx_problem_number": "3",
    "lx_problem_points": "8"
   },
   "source": [
    "\n",
    "Let us build a proportional model ($\\mathbb{P}(Y=1 \\mid X) = G(\\beta_0+\\beta \\cdot X)$ where $G$ is the logistic function) for the spam vs not spam data. Here we assume that the features are presence vs not presence of a word, let $X_1,X_2,X_3$ denote the presence (1) or absence (0) of the words $(\"free\", \"prize\", \"win\")$.\n",
    "\n",
    "1. [2p] Load the file `data/spam.csv` and create two numpy arrays, `problem3_X` which has shape **(n_texts,3)** where each feature in `problem3_X` corresponds to $X_1,X_2,X_3$ from above, `problem3_Y` which has shape **(n_texts,)** and consists of a $1$ if the email is spam and $0$ if it is not. Split this data into a train-calibration-test sets where we have the split $40\\%$, $20\\%$, $40\\%$, put this data in the designated variables in the code cell.\n",
    "\n",
    "2. [2p] Follow the calculation from the lecture notes where we derive the logistic regression and implement the final loss function inside the class `ProportionalSpam`. You can use the `Test` cell to check that it gives the correct value for a test-point.\n",
    "\n",
    "3. [2p] Train the model `problem3_ps` on the training data. The goal is to calibrate the probabilities output from the model. Start by creating a new variable `problem3_X_pred` (shape `(n_samples,1)`) which consists of the predictions of `problem3_ps` on the calibration dataset. Then train a calibration model using `sklearn.tree.DecisionTreeRegressor`, store this trained model in `problem3_calibrator`. Recall that calibration error is the following for a fixed function $f$\n",
    "$$\n",
    "    \\sqrt{\\mathbb{E}[|\\mathbb{E}[Y \\mid f(X)] - f(X)|^2]}.\n",
    "$$\n",
    "\n",
    "4. [2p] Use the trained model `problem3_ps` and the calibrator `problem3_calibrator` to make final predictions on the testing data, store the prediction in `problem3_final_predictions`. "
   ]
  },
  {
   "cell_type": "code",
   "execution_count": 8,
   "id": "5f0bc703",
   "metadata": {
    "deletable": false,
    "lx_assignment_number": "3",
    "lx_assignment_type": "ASSIGNMENT",
    "lx_assignment_type2print": "Assignment",
    "lx_problem_cell_type": "PROBLEM",
    "lx_problem_number": "3",
    "lx_problem_points": "8"
   },
   "outputs": [
    {
     "name": "stdout",
     "output_type": "stream",
     "text": [
      "(2229, 3) (1114, 3) (2229, 3) (2229,) (1114,) (2229,)\n"
     ]
    }
   ],
   "source": [
    "from sklearn.model_selection import train_test_split\n",
    "from sklearn.tree import DecisionTreeRegressor\n",
    "df = pd.read_csv(\"data/spam.csv\", encoding= \"ISO-8859-1\")\n",
    "X = []\n",
    "Y = list(df[\"v1\"].map({\"spam\":1, \"ham\":0}))\n",
    "for sentence in df[\"v2\"]:\n",
    "    temp = []\n",
    "    sentence = sentence.lower()\n",
    "    if \"free\" in sentence:\n",
    "        temp.append(1)\n",
    "    else:\n",
    "        temp.append(0)\n",
    "    if \"prize\" in sentence:\n",
    "        temp.append(1)\n",
    "    else:\n",
    "        temp.append(0)\n",
    "    if \"win\" in sentence:\n",
    "        temp.append(1)\n",
    "    else:\n",
    "        temp.append(0)\n",
    "    X.append(temp)\n",
    "\n",
    "problem3_X = np.array(X)\n",
    "problem3_Y = np.array(Y)\n",
    "\n",
    "x1, xtemp, y1, ytemp = train_test_split(problem3_X, problem3_Y, train_size= .4001)\n",
    "# print(x1.shape)\n",
    "# print(y1.shape)\n",
    "x2,x3,y2,y3 = train_test_split(xtemp,ytemp, train_size= 1/3)\n",
    "# print(x2.shape)\n",
    "# print(y2.shape)\n",
    "# print(x3.shape)\n",
    "# print(y3.shape)\n",
    "\n",
    "problem3_X_train = x1\n",
    "problem3_X_calib = x2\n",
    "problem3_X_test = x3\n",
    "\n",
    "problem3_Y_train = y1\n",
    "problem3_Y_calib = y2\n",
    "problem3_Y_test = y3\n",
    "\n",
    "print(problem3_X_train.shape,problem3_X_calib.shape,problem3_X_test.shape,problem3_Y_train.shape,problem3_Y_calib.shape,problem3_Y_test.shape)"
   ]
  },
  {
   "cell_type": "code",
   "execution_count": 9,
   "id": "522b4096",
   "metadata": {
    "deletable": false,
    "lx_assignment_number": "3",
    "lx_assignment_type": "ASSIGNMENT",
    "lx_assignment_type2print": "Assignment",
    "lx_problem_cell_type": "PROBLEM",
    "lx_problem_number": "3",
    "lx_problem_points": "8"
   },
   "outputs": [],
   "source": [
    "\n",
    "\n",
    "class ProportionalSpam(object):\n",
    "    def __init__(self):\n",
    "        self.coeffs = None\n",
    "        self.result = None\n",
    "    \n",
    "    # define the objective/cost/loss function we want to minimise\n",
    "    def loss(self,X,Y,coeffs):\n",
    "        sum = 0\n",
    "        for i in range(len(Y)):\n",
    "            # print(X[i])\n",
    "            # print(Y[i])\n",
    "            sum += (np.log(1+np.exp(-(2*Y[i] - 1)*(coeffs[0] + coeffs[1]*X[i][0] + coeffs[2]*X[i][1]+ coeffs[3]*X[i][2])))) \n",
    "        return sum/len(Y)\n",
    "\n",
    "    def fit(self,X,Y):\n",
    "        import numpy as np\n",
    "        from scipy import optimize\n",
    "\n",
    "        #Use the f above together with an optimization method from scipy\n",
    "        #to find the coefficients of the model\n",
    "        opt_loss = lambda coeffs: self.loss(X,Y,coeffs)\n",
    "        initial_arguments = np.zeros(shape=X.shape[1]+1)\n",
    "        self.result = optimize.minimize(opt_loss, initial_arguments,method='cg')\n",
    "        self.coeffs = self.result.x\n",
    "    \n",
    "    def predict(self,X):\n",
    "        #Use the trained model to predict Y\n",
    "        if (self.coeffs is not None):\n",
    "            G = lambda x: np.exp(x)/(1+np.exp(x))\n",
    "            return np.round(10*G(np.dot(X,self.coeffs[1:])+self.coeffs[0]))/10 # This rounding is to help you with the calibration"
   ]
  },
  {
   "cell_type": "code",
   "execution_count": 10,
   "id": "b97f059a",
   "metadata": {
    "deletable": false,
    "lx_assignment_number": "3",
    "lx_assignment_type": "ASSIGNMENT",
    "lx_assignment_type2print": "Assignment",
    "lx_problem_cell_type": "PROBLEM",
    "lx_problem_number": "3",
    "lx_problem_points": "8"
   },
   "outputs": [],
   "source": [
    "model = ProportionalSpam()\n",
    "model.fit(problem3_X_train,problem3_Y_train)\n",
    "problem3_ps = model\n",
    "\n",
    "problem3_X_pred = np.array(problem3_ps.predict(problem3_X_calib)).reshape(-1,1)\n",
    "# print(problem3_X_pred.shape)\n",
    "problem3_calibrator = DecisionTreeRegressor().fit(problem3_X_pred, problem3_Y_calib)"
   ]
  },
  {
   "cell_type": "code",
   "execution_count": 11,
   "id": "07f477aa",
   "metadata": {
    "deletable": false,
    "lx_assignment_number": "3",
    "lx_assignment_type": "ASSIGNMENT",
    "lx_assignment_type2print": "Assignment",
    "lx_problem_cell_type": "PROBLEM",
    "lx_problem_number": "3",
    "lx_problem_points": "8"
   },
   "outputs": [],
   "source": [
    "predictions = np.array(problem3_ps.predict(problem3_X_test)).reshape(-1,1)\n",
    "problem3_final_predictions = problem3_calibrator.predict(predictions)"
   ]
  },
  {
   "cell_type": "markdown",
   "id": "51c0985f",
   "metadata": {
    "deletable": false,
    "lx_assignment_number": "3",
    "lx_assignment_type": "ASSIGNMENT",
    "lx_assignment_type2print": "Assignment",
    "lx_problem_cell_type": "Test",
    "lx_problem_number": "3",
    "lx_problem_points": "8"
   },
   "source": [
    "---\n",
    "#### Local Test for Assignment 3, PROBLEM 3\n",
    "Evaluate cell below to make sure your answer is valid.                             You **should not** modify anything in the cell below when evaluating it to do a local test of                             your solution.\n",
    "You may need to include and evaluate code snippets from lecture notebooks in cells above to make the local test work correctly sometimes (see error messages for clues). This is meant to help you become efficient at recalling materials covered in lectures that relate to this problem. Such local tests will generally not be available in the exam."
   ]
  },
  {
   "cell_type": "code",
   "execution_count": 12,
   "id": "1abcb445",
   "metadata": {
    "deletable": false,
    "lx_assignment_number": "3",
    "lx_assignment_type": "ASSIGNMENT",
    "lx_assignment_type2print": "Assignment",
    "lx_problem_cell_type": "Test",
    "lx_problem_number": "3",
    "lx_problem_points": "8"
   },
   "outputs": [
    {
     "name": "stdout",
     "output_type": "stream",
     "text": [
      "1.2828629432232497\n",
      "Your loss was correct for a test point\n"
     ]
    }
   ],
   "source": [
    "try:\n",
    "    import numpy as np\n",
    "    test_instance = ProportionalSpam()\n",
    "    test_loss = test_instance.loss(np.array([[1,0,1],[0,1,1]]),np.array([1,0]),np.array([1.2,0.4,0.3,0.9]))\n",
    "    print(test_loss)\n",
    "    assert (np.abs(test_loss-1.2828629432232497) < 1e-6)\n",
    "    print(\"Your loss was correct for a test point\")\n",
    "except:\n",
    "    print(\"Your loss was not correct on a test point\")"
   ]
  }
 ],
 "metadata": {
  "kernelspec": {
   "display_name": "base",
   "language": "python",
   "name": "python3"
  },
  "language_info": {
   "codemirror_mode": {
    "name": "ipython",
    "version": 3
   },
   "file_extension": ".py",
   "mimetype": "text/x-python",
   "name": "python",
   "nbconvert_exporter": "python",
   "pygments_lexer": "ipython3",
   "version": "3.12.4"
  },
  "lx_assignment_number": 3,
  "lx_course_instance": "2024",
  "lx_course_name": "Introduction to Data Science",
  "lx_course_number": "1MS041"
 },
 "nbformat": 4,
 "nbformat_minor": 5
}
